{
 "cells": [
  {
   "cell_type": "code",
   "execution_count": 1,
   "metadata": {},
   "outputs": [
    {
     "name": "stdout",
     "output_type": "stream",
     "text": [
      "[8311. 1159. 8311. ... 1159. 2554. 2554.]\n"
     ]
    },
    {
     "data": {
      "text/plain": [
       "<Figure size 640x480 with 1 Axes>"
      ]
     },
     "metadata": {},
     "output_type": "display_data"
    }
   ],
   "source": [
    "import pandas as pd\n",
    "import matplotlib.pyplot as plt  # 导入图像库\n",
    "from sklearn.ensemble import RandomForestRegressor\n",
    "\n",
    "\n",
    "# 用随机森林对缺失值预测填充函数\n",
    "def set_missing(df):\n",
    "    # 把已有的数值型特征取出来\n",
    "    process_df = df.iloc[:, [5, 0, 1, 2, 3, 4, 6, 7, 8, 9]]\n",
    "    # 分成已知该特征和未知该特征两部分\n",
    "    known = process_df[process_df.MonthlyIncome.notnull()].values\n",
    "    unknown = process_df[process_df.MonthlyIncome.isnull()].values\n",
    "    # X为特征属性值\n",
    "    X = known[:, 1:]\n",
    "    # y为结果标签值\n",
    "    y = known[:, 0]\n",
    "    # fit到RandomForestRegressor之中\n",
    "    rfr = RandomForestRegressor(random_state=0, n_estimators=200, max_depth=3, n_jobs=-1)\n",
    "    rfr.fit(X, y)\n",
    "    # 用得到的模型进行未知特征值预测\n",
    "    predicted = rfr.predict(unknown[:, 1:]).round(0)\n",
    "    print(predicted)\n",
    "    # 用得到的预测结果填补原缺失数据\n",
    "    df.loc[(df.MonthlyIncome.isnull()), 'MonthlyIncome'] = predicted\n",
    "    return df\n",
    "\n",
    "\n",
    "if __name__ == '__main__':\n",
    "    # 载入数据\n",
    "    data = pd.read_csv('cs-training.csv')\n",
    "    # 数据集确实和分布情况\n",
    "    data.describe().to_csv('DataDescribe.csv')  # 了解数据集的分布情况\n",
    "    data = set_missing(data)  # 用随机森林填补比较多的缺失值\n",
    "    data = data.dropna()  # 删除比较少的缺失值\n",
    "    data = data.drop_duplicates()  # 删除重复项\n",
    "    data.to_csv('MissingData.csv', index=False)\n",
    "    data.describe().to_csv('MissingDataDescribe.csv')\n",
    "\n",
    "    # 异常值处理\n",
    "    # 年龄等于0的异常值进行剔除\n",
    "    data = data[data['age'] > 0]\n",
    "    # 箱形图\n",
    "    data379 = data[\n",
    "        ['NumberOfTime30-59DaysPastDueNotWorse', 'NumberOfTimes90DaysLate', 'NumberOfTime60-89DaysPastDueNotWorse']]\n",
    "    data379.boxplot()\n",
    "    data = data[data['NumberOfTime30-59DaysPastDueNotWorse'] < 90]\n",
    "    data379 = data[\n",
    "        ['NumberOfTime30-59DaysPastDueNotWorse', 'NumberOfTimes90DaysLate', 'NumberOfTime60-89DaysPastDueNotWorse']]\n",
    "    # data379.boxplot()\n",
    "    plt.show()\n",
    "    # data.to_csv('PretreatmentData.csv')\n"
   ]
  },
  {
   "cell_type": "code",
   "execution_count": null,
   "metadata": {},
   "outputs": [],
   "source": []
  }
 ],
 "metadata": {
  "kernelspec": {
   "display_name": "Python 3",
   "language": "python",
   "name": "python3"
  },
  "language_info": {
   "codemirror_mode": {
    "name": "ipython",
    "version": 3
   },
   "file_extension": ".py",
   "mimetype": "text/x-python",
   "name": "python",
   "nbconvert_exporter": "python",
   "pygments_lexer": "ipython3",
   "version": "3.7.3"
  }
 },
 "nbformat": 4,
 "nbformat_minor": 2
}
