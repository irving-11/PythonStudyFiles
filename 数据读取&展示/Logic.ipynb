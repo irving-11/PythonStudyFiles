{
 "cells": [
  {
   "cell_type": "code",
   "execution_count": 2,
   "metadata": {},
   "outputs": [
    {
     "name": "stderr",
     "output_type": "stream",
     "text": [
      "C:\\Users\\minzi\\Anaconda3\\lib\\site-packages\\numpy\\core\\fromnumeric.py:2389: FutureWarning: Method .ptp is deprecated and will be removed in a future version. Use numpy.ptp instead.\n",
      "  return ptp(axis=axis, out=out, **kwargs)\n"
     ]
    },
    {
     "name": "stdout",
     "output_type": "stream",
     "text": [
      "Optimization terminated successfully.\n",
      "         Current function value: 0.225926\n",
      "         Iterations 7\n",
      "const                                  -1.334233\n",
      "RevolvingUtilizationOfUnsecuredLines   -0.000043\n",
      "age                                    -0.030936\n",
      "NumberOfTime30-59DaysPastDueNotWorse    0.505759\n",
      "NumberOfTimes90DaysLate                 0.476292\n",
      "NumberOfTime60-89DaysPastDueNotWorse   -0.950023\n",
      "dtype: float64\n"
     ]
    },
    {
     "data": {
      "image/png": "[encoded data removed]",
      "text/plain": [
       "<Figure size 432x288 with 1 Axes>"
      ]
     },
     "metadata": {
      "needs_background": "light"
     },
     "output_type": "display_data"
    }
   ],
   "source": [
    "import pandas as pd\n",
    "import matplotlib.pyplot as plt  # 导入图像库\n",
    "import matplotlib\n",
    "import seaborn as sns\n",
    "import statsmodels.api as sm\n",
    "from sklearn.metrics import roc_curve, auc\n",
    "\n",
    "if __name__ == '__main__':\n",
    "    matplotlib.rcParams['axes.unicode_minus'] = False\n",
    "    data = pd.read_csv('cs-training.csv')\n",
    "    Y = data['SeriousDlqin2yrs']\n",
    "    X = data.drop(['SeriousDlqin2yrs', 'DebtRatio', 'MonthlyIncome', 'NumberOfOpenCreditLinesAndLoans',\n",
    "                   'NumberRealEstateLoansOrLines', 'NumberOfDependents'], axis=1)\n",
    "    X1 = sm.add_constant(X)\n",
    "    logit = sm.Logit(Y, X1)\n",
    "    result = logit.fit()\n",
    "    print(result.params)\n",
    "\n",
    "    test = pd.read_csv('cs-training.csv')\n",
    "    Y_test = test['SeriousDlqin2yrs']\n",
    "    X_test = test.drop(['SeriousDlqin2yrs', 'DebtRatio', 'MonthlyIncome', 'NumberOfOpenCreditLinesAndLoans',\n",
    "                        'NumberRealEstateLoansOrLines', 'NumberOfDependents'], axis=1)\n",
    "    X3 = sm.add_constant(X_test)\n",
    "    resu = result.predict(X3)\n",
    "    fpr, tpr, threshold = roc_curve(Y_test, resu)\n",
    "    rocauc = auc(fpr, tpr)\n",
    "    plt.plot(fpr, tpr, 'b', label='AUC = %0.2f' % rocauc)\n",
    "    plt.legend(loc='lower right')\n",
    "    plt.plot([0, 1], [0, 1], 'r--')\n",
    "    plt.xlim([0, 1])\n",
    "    plt.ylim([0, 1])\n",
    "    plt.ylabel('真正率')\n",
    "    plt.xlabel('假正率')\n",
    "    plt.show()\n"
   ]
  },
  {
   "cell_type": "code",
   "execution_count": null,
   "metadata": {},
   "outputs": [],
   "source": []
  }
 ],
 "metadata": {
  "kernelspec": {
   "display_name": "Python 3",
   "language": "python",
   "name": "python3"
  },
  "language_info": {
   "codemirror_mode": {
    "name": "ipython",
    "version": 3
   },
   "file_extension": ".py",
   "mimetype": "text/x-python",
   "name": "python",
   "nbconvert_exporter": "python",
   "pygments_lexer": "ipython3",
   "version": "3.7.3"
  }
 },
 "nbformat": 4,
 "nbformat_minor": 2
}
